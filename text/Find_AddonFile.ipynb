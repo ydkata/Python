{
 "cells": [
  {
   "cell_type": "code",
   "execution_count": 91,
   "metadata": {
    "scrolled": false
   },
   "outputs": [
    {
     "name": "stdout",
     "output_type": "stream",
     "text": [
      "START\n",
      "END\n"
     ]
    }
   ],
   "source": [
    "import os, re\n",
    "print('START')\n",
    "with open(\"C:\\\\tmp\\\\Test\\\\LogFile.txt\", \"a\") as logFile:\n",
    "    for current, subfolders, files in os.walk('C:\\\\tmp\\\\Test\\\\V160'):   # Tree単位で遷移。その際 Subfolder,Subfileを取得する\n",
    "        #Deug print('current: ' + current)\n",
    "\n",
    "        for file in files:\n",
    "            #Deug print('Filepath: ' + os.path.join(current, file))\t#File path\n",
    "            path = current + '\\\\' + file\n",
    "            # file_name = re.search(r'ZB', file)\n",
    "            # ZBが含まれるファイルのみ対象とする.\n",
    "            # if file_name:\n",
    "                # Debug print('Check filename: ' + file)\n",
    "                # Read file\n",
    "            with open(path, 'r', encoding='utf-8') as f:\n",
    "                try: #Read FileでExceptionが発生する場合の対処\n",
    "                    contents = f.read()\n",
    "                    # print('file: {}, {}'.format(file, contents))\n",
    "                    # Search　存在しない場合ファイル名を出力する。\"is not None\"の場合は存在する。\n",
    "                    if re.search(r'管理番号 *B[0-9]|管理番号 *K[0-9]', contents) is None:\n",
    "                        #Debug print('*file: {}, {}'.format(file, contents))\n",
    "                        #Debug s = re.findall(r'管理番号 *B[0-9]|管理番号 *K[0-9]', contents)\n",
    "                        #Debug print(s)\n",
    "                        print('管理番号BとKが存在しないFile:' + file, file = logFile)\n",
    "                except UnicodeDecodeError:\n",
    "                    print('Can not read file by UnicodeDecodeError.' + file, file = logFile)\n",
    "       #Deug print('-----------------------------------------------')\n",
    "print('END')\n"
   ]
  },
  {
   "cell_type": "code",
   "execution_count": null,
   "metadata": {},
   "outputs": [],
   "source": []
  },
  {
   "cell_type": "code",
   "execution_count": null,
   "metadata": {},
   "outputs": [],
   "source": []
  }
 ],
 "metadata": {
  "kernelspec": {
   "display_name": "Python 3",
   "language": "python",
   "name": "python3"
  },
  "language_info": {
   "codemirror_mode": {
    "name": "ipython",
    "version": 3
   },
   "file_extension": ".py",
   "mimetype": "text/x-python",
   "name": "python",
   "nbconvert_exporter": "python",
   "pygments_lexer": "ipython3",
   "version": "3.7.0"
  }
 },
 "nbformat": 4,
 "nbformat_minor": 2
}
