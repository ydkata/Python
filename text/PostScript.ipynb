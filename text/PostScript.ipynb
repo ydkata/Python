{
 "cells": [
  {
   "cell_type": "code",
   "execution_count": 2,
   "metadata": {},
   "outputs": [],
   "source": [
    "# -*- coding: utf-8 -*-\n",
    "import urllib\n",
    "import requests\n",
    "import time\n",
    "\n",
    "def postRequest(url, params):\n",
    "    encParams = urllib.parse.urlencode(params)\n",
    "    reqHeader = {'content-type' : 'application/x-www-form-urlencoded'}\n",
    "    res = requests.post(url, data=encParams, headers=reqHeader)\n",
    "    return res.text\n",
    "\n",
    "# dictを作ります\n",
    "def createDic(paramGet):\n",
    "    aParams = paramGet.split('?')\n",
    "    aParams = aParams[1].split('&')    #['x=1', 'y=1',...]\n",
    "    \n",
    "    # Key,Valueの配列をそれぞれ作る\n",
    "    dPost = {}     # 空状態でDictを宣言\n",
    "    for v in aParams:\n",
    "        p = v.split('=')\n",
    "        dPost.setdefault(p[0],p[1])\n",
    "    return dPost"
   ]
  },
  {
   "cell_type": "code",
   "execution_count": 3,
   "metadata": {},
   "outputs": [
    {
     "data": {
      "text/plain": [
       "{'key': '27741c2a0766877901c14050c09eb45c012f8f36',\n",
       " 'time_entry[activity_id]': '36',\n",
       " 'time_entry[comments]': 'CV',\n",
       " 'time_entry[hours]': '4.5',\n",
       " 'time_entry[issue_id]': '12541',\n",
       " 'time_entry[spent_on]': '2018-05-11'}"
      ]
     },
     "metadata": {},
     "output_type": "display_data"
    },
    {
     "data": {
      "text/plain": [
       "'<HTML>\\r\\n<HEAD><TITLE>Error</TITLE></HEAD>\\r\\n<BODY>\\r\\n<H1>Error</H1>\\r\\n<BLOCKQUOTE><B>\\r\\n<HR SIZE=4><P>\\r\\n<P>\\r\\n\\x90Ú\\x91±\\x82ð\\x8e\\x8e\\x82Ý\\x82Ü\\x82µ\\x82½\\x82ª\\x81A\\x8b\\x91\\x94Û\\x82³\\x82ê\\x82Ü\\x82µ\\x82½:  (port=80)<P>\\r\\n\\r\\n<HR SIZE=4>\\r\\n</B></BLOCKQUOTE>\\r\\n\\r\\n<P>\\r\\n<ADDRESS>Proxy server at DC-N054 on port 8000</ADDRESS>\\r\\n</BODY></HTML>\\r\\n'"
      ]
     },
     "metadata": {},
     "output_type": "display_data"
    }
   ],
   "source": [
    "if __name__ == '__main__':\n",
    "    # 直接実行されたスクリプトであることを意味します\n",
    "\n",
    "    # PostParameter用のDictを作成する\n",
    "    postPrm = createDic('/time_entries.xml?key=27741c2a0766877901c14050c09eb45c012f8f36&time_entry[issue_id]=12541&time_entry[spent_on]=2018-05-11&time_entry[hours]=4.5&time_entry[activity_id]=36&time_entry[comments]=CV')\n",
    "    print (postPrm)\n",
    "    \n",
    "    postResult = postRequest('http://localhost:8000/hoge', postPrm)\n",
    "    print (postResult)"
   ]
  },
  {
   "cell_type": "code",
   "execution_count": null,
   "metadata": {},
   "outputs": [],
   "source": []
  }
 ],
 "metadata": {
  "kernelspec": {
   "display_name": "Python 3",
   "language": "python",
   "name": "python3"
  },
  "language_info": {
   "codemirror_mode": {
    "name": "ipython",
    "version": 3
   },
   "file_extension": ".py",
   "mimetype": "text/x-python",
   "name": "python",
   "nbconvert_exporter": "python",
   "pygments_lexer": "ipython3",
   "version": "3.6.4"
  }
 },
 "nbformat": 4,
 "nbformat_minor": 2
}
